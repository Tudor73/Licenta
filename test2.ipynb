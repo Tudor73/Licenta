{
 "cells": [
  {
   "cell_type": "code",
   "execution_count": 31,
   "metadata": {},
   "outputs": [
    {
     "name": "stdout",
     "output_type": "stream",
     "text": [
      "Sound clip is 9.195102040816327 seconds long\n",
      "44100\n",
      "11025\n"
     ]
    }
   ],
   "source": [
    "from scipy.io import wavfile \n",
    "import matplotlib.pyplot as plt\n",
    "from scipy.fftpack import fft\n",
    "import numpy as np\n",
    "\n",
    "import os\n",
    "import librosa\n",
    "import math\n",
    "\n",
    "\n",
    "NOTE_NAMES = [\"A\", \"A#\", \"B\", \"C\", \"C#\", \"D\", \"D#\", \"E\", \"F\", \"F#\", \"G\", \"G#\"]\n",
    "\n",
    "\n",
    "\n",
    "y, fs = librosa.load(\"scale.wav\", sr=None)\n",
    "\n",
    "y = librosa.to_mono(y)\n",
    "\n",
    "\n",
    "FPS = 30\n",
    "FRAME_STEP = fs / FPS \n",
    "\n",
    "print(f\"Sound clip is {len(y)/fs} seconds long\")\n",
    "print(fs)\n",
    "window_size = int(fs* 0.25)\n",
    "\n",
    "print(window_size)\n",
    "\n",
    "# f0 = librosa.pyin(y, fmin=librosa.note_to_hz('C2'), fmax=librosa.note_to_hz('C7'))\n",
    "# print(f0)"
   ]
  },
  {
   "cell_type": "code",
   "execution_count": 19,
   "metadata": {},
   "outputs": [
    {
     "name": "stdout",
     "output_type": "stream",
     "text": [
      "2558.5754695354544\n"
     ]
    },
    {
     "data": {
      "text/plain": [
       "[<matplotlib.lines.Line2D at 0x1365a4b7f40>]"
      ]
     },
     "execution_count": 19,
     "metadata": {},
     "output_type": "execute_result"
    },
    {
     "data": {
      "image/png": "[encoded data removed]",
      "text/plain": [
       "<Figure size 640x480 with 1 Axes>"
      ]
     },
     "metadata": {},
     "output_type": "display_data"
    }
   ],
   "source": [
    "fft_frequencies = np.fft.rfftfreq(len(y), 1/fs)\n",
    "sound_fft = np.fft.rfft(y)  \n",
    "print(np.max(np.abs(sound_fft)))\n",
    "plt.plot(np.where((fft_frequencies > 100) & (fft_frequencies < 1000), fft_frequencies, None) , np.abs(sound_fft))"
   ]
  },
  {
   "cell_type": "code",
   "execution_count": 20,
   "metadata": {},
   "outputs": [
    {
     "name": "stdout",
     "output_type": "stream",
     "text": [
      " frequency = D3, amplitude = 446.04113891271413\n",
      " frequency = D3, amplitude = 459.151646356146\n",
      " frequency = D3, amplitude = 443.8885730248903\n",
      " frequency = D3, amplitude = 427.9096412317257\n",
      " frequency = D3, amplitude = 414.6858089211093\n",
      " frequency = D3, amplitude = 400.80402704149014\n"
     ]
    }
   ],
   "source": [
    "fft_frequencies = np.fft.rfftfreq(window_size, 1/fs)\n",
    "\n",
    "def get_window_sample(track, current_frame):\n",
    "    next_window = current_frame + window_size\n",
    "    return track[current_frame:next_window]\n",
    "\n",
    "\n",
    "\n",
    "\n",
    "for sample in range(0, len(y), int(window_size/4)): \n",
    "    window_track = get_window_sample(y, sample)\n",
    "    fft = np.fft.rfft(window_track)\n",
    "    # fft = np.abs(fft)   \n",
    "\n",
    "    for idx in range(len(fft)):\n",
    "        freq = fft_frequencies[idx]\n",
    "        amplitude = np.abs(fft[idx])\n",
    "        if amplitude > 400:\n",
    "            print(f\" frequency = {librosa.hz_to_note(freq)}, amplitude = {amplitude}\")\n",
    "        # print(freq)\n",
    "    # print(len(lst))\n",
    "    # a_max = max(np.max(fft))\n"
   ]
  },
  {
   "cell_type": "code",
   "execution_count": 33,
   "metadata": {},
   "outputs": [
    {
     "name": "stderr",
     "output_type": "stream",
     "text": [
      "C:\\Users\\atud2\\AppData\\Local\\Temp\\ipykernel_17572\\4896690.py:1: FutureWarning: Pass y=[ 0.0000000e+00  0.0000000e+00  0.0000000e+00 ...  3.0517578e-05\n",
      " -3.0517578e-05  3.0517578e-05] as keyword args. From version 0.10 passing these as positional arguments will result in an error\n",
      "  onset_frames = librosa.onset.onset_detect(y)\n"
     ]
    },
    {
     "name": "stdout",
     "output_type": "stream",
     "text": [
      "[ 73 133 139 201 209 269 275 329 339 407 416]\n",
      "[ 37376  68096  71168 102912 107008 137728 140800 168448 173568 208384\n",
      " 212992]\n",
      "['E3', 'G3', 'A3', 'B3', 'D4', 'E4']\n"
     ]
    }
   ],
   "source": [
    "onset_frames = librosa.onset.onset_detect(y)\n",
    "print(onset_frames)\n",
    "onset_times = librosa.frames_to_time(onset_frames)\n",
    "onset_samples = librosa.frames_to_samples(onset_frames)\n",
    "\n",
    "print(onset_samples)\n",
    "\n",
    "with open(\"notes.txt\", 'wt') as f:\n",
    "    for onset_time in onset_times:\n",
    "        f.write(f\"{onset_time} \\n\")\n",
    "\n",
    "\n",
    "notes = []\n",
    "\n",
    "\n",
    "# for sample in onset_samples:\n",
    "#     window_track = get_window_sample(y, sample-20)\n",
    "#     fft = np.fft.rfft(window_track)\n",
    "#     # fft = np.abs(fft)   \n",
    "#     maxim = 200\n",
    "#     f = 0\n",
    "#     for idx in range(len(fft)):\n",
    "#         freq = fft_frequencies[idx]\n",
    "#         amplitude = np.abs(fft[idx])\n",
    "#         if amplitude > maxim and freq not in notes:\n",
    "#             notes.append(freq)\n",
    "#             maxim = amplitude\n",
    "#             f = freq\n",
    "#     print(f\" frequency = {f}, amplitude = {maxim}\")\n",
    "\n",
    "for i in range(len(onset_samples) -1):\n",
    "    window = y[onset_samples[i]: onset_samples[i+1]]\n",
    "    fft_frequencies = np.fft.rfftfreq(len(window), 1/fs)\n",
    "    fft = np.fft.rfft(window)\n",
    "    maxim = 500 \n",
    "    f = 0\n",
    "    for j in range(len(fft)):\n",
    "        amplitude = np.abs(fft[j])\n",
    "        freq = fft_frequencies[j]\n",
    "        if amplitude > maxim and freq < 1000 and librosa.hz_to_note(freq) not in notes:\n",
    "            maxim = amplitude\n",
    "            f = freq\n",
    "    # if librosa.hz_to_note(f) not in notes and f != 0:\n",
    "    if f != 0:\n",
    "        notes.append(librosa.hz_to_note(f)) \n",
    "\n",
    "\n",
    "final_window = y[onset_samples[-1]:]\n",
    "fft_frequencies = np.fft.rfftfreq(len(final_window), 1/fs)\n",
    "fft = np.fft.rfft(final_window)\n",
    "maxim = 500 \n",
    "f = 0\n",
    "for j in range(len(fft)):\n",
    "    amplitude = np.abs(fft[j])\n",
    "    freq = fft_frequencies[j]\n",
    "    if amplitude > maxim and freq < 1000 and librosa.hz_to_note(freq) not in notes:\n",
    "        maxim = amplitude\n",
    "        f = freq\n",
    "\n",
    "notes.append(librosa.hz_to_note(f)) \n",
    "\n",
    "print(notes)    \n"
   ]
  },
  {
   "cell_type": "markdown",
   "metadata": {},
   "source": []
  }
 ],
 "metadata": {
  "kernelspec": {
   "display_name": "Python 3",
   "language": "python",
   "name": "python3"
  },
  "language_info": {
   "codemirror_mode": {
    "name": "ipython",
    "version": 3
   },
   "file_extension": ".py",
   "mimetype": "text/x-python",
   "name": "python",
   "nbconvert_exporter": "python",
   "pygments_lexer": "ipython3",
   "version": "3.10.8"
  },
  "orig_nbformat": 4,
  "vscode": {
   "interpreter": {
    "hash": "c4e71fe8c117663fd1cdcabede92e5e96e001c2fc46684f90107ff771ad4008e"
   }
  }
 },
 "nbformat": 4,
 "nbformat_minor": 2
}
