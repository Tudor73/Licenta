{
 "cells": [
  {
   "cell_type": "code",
   "execution_count": 1,
   "metadata": {},
   "outputs": [
    {
     "name": "stdout",
     "output_type": "stream",
     "text": [
      "Sound clip is 9.195102040816327 seconds long\n",
      "44100\n",
      "11025\n"
     ]
    }
   ],
   "source": [
    "import matplotlib.pyplot as plt\n",
    "import numpy as np\n",
    "from scipy.signal import butter, lfilter, cheby1\n",
    "\n",
    "import librosa\n",
    "\n",
    "\n",
    "y, fs = librosa.load(\"inputs/scale.wav\", sr=None)\n",
    "\n",
    "y = librosa.to_mono(y)\n",
    "\n",
    "print(f\"Sound clip is {len(y)/fs} seconds long\")\n",
    "print(fs)\n",
    "window_size = int(fs* 0.25)\n",
    "\n",
    "print(window_size)\n",
    "\n",
    "bounds = [80, 1000]\n",
    "\n",
    "# f0 = librosa.pyin(y, fmin=librosa.note_to_hz('C2'), fmax=librosa.note_to_hz('C7'))\n",
    "# print(f0)"
   ]
  },
  {
   "cell_type": "code",
   "execution_count": 4,
   "metadata": {},
   "outputs": [
    {
     "name": "stdout",
     "output_type": "stream",
     "text": [
      "[ 8.27780387e-06  0.00000000e+00 -3.31112155e-05  0.00000000e+00\n",
      "  4.96668232e-05  0.00000000e+00 -3.31112155e-05  0.00000000e+00\n",
      "  8.27780387e-06] [  1.          -7.70121417  25.96020907 -50.03033249  60.29136697\n",
      " -46.52381732  22.44893677  -6.19298225   0.74783342]\n",
      "(405504,)\n",
      "8\n"
     ]
    },
    {
     "data": {
      "image/png": "[encoded data removed]",
      "text/plain": [
       "<Figure size 640x480 with 1 Axes>"
      ]
     },
     "metadata": {},
     "output_type": "display_data"
    }
   ],
   "source": [
    "\n",
    "\n",
    "order = 4\n",
    "low = 120.0\n",
    "high= 900.0\n",
    "b,a = butter(order, [low, high], fs=fs, btype='band')\n",
    "# b,a = butter(order, [low, high], fs=fs, btype='band')\n",
    "print(b, a)\n",
    "y[np.abs(y) < 0.04] = 0\n",
    "\n",
    "\n",
    "\n",
    "filtered_sound = lfilter(b, a ,y)\n",
    "y = filtered_sound\n",
    "\n",
    "\n",
    "maxim = np.max(y)\n",
    "y = y/maxim\n",
    "\n",
    "\n",
    "onset_frames = librosa.onset.onset_detect(y=y)\n",
    "onset_samples = librosa.frames_to_samples(onset_frames)\n",
    "\n",
    "\n",
    "print(y.shape)\n",
    "\n",
    "print(len(onset_samples))\n",
    "\n",
    "time_disc = np.linspace(0, len(y)/ fs, num=len(y))\n",
    "plt.plot(time_disc,y)\n",
    "\n",
    "for sample in onset_samples:\n",
    "    plt.axvline(x=sample/fs, color=\"red\")\n",
    "\n",
    "\n",
    "plt.savefig(\"onsets.png\")\n",
    "plt.show()\n"
   ]
  },
  {
   "cell_type": "code",
   "execution_count": 3,
   "metadata": {},
   "outputs": [
    {
     "name": "stdout",
     "output_type": "stream",
     "text": [
      "E2\n",
      "G2\n",
      "A2\n",
      "B2\n",
      "D2\n",
      "D2\n"
     ]
    }
   ],
   "source": [
    "def ACF(y, window_size, t, lag):    \n",
    "    return np.sum(\n",
    "        y[t : t + window_size] *\n",
    "        y[lag + t : lag + t + window_size]\n",
    "    )\n",
    "\n",
    "\n",
    "def detect_pitch_ACF(y, window_size, t, fs, bounds):\n",
    "    ACF_vals = [ACF(y, window_size, t, i) for i in range(*bounds)]\n",
    "    sample = np.argmax(ACF_vals) + bounds[0]\n",
    "    return fs / sample\n",
    "\n",
    "\n",
    "\n",
    "def DF(y, window_size, t, lag):\n",
    "    return ACF(y, window_size, t, 0)\\\n",
    "        + ACF(y, window_size, t + lag, 0)\\\n",
    "        - (2 * ACF(y, window_size, t, lag))\n",
    "\n",
    "\n",
    "\n",
    "def CMNDF(y, window_size, t, lag):\n",
    "    if lag == 0:\n",
    "        return 1\n",
    "    return DF(y, window_size, t, lag)\\\n",
    "        / np.sum([DF(y, window_size, t, j + 1) for j in range(lag)])\n",
    "\n",
    "\n",
    "def detect_pitch_CMNDF(y, window_size, t, fs, bounds):\n",
    "    CMNDF_vals = [CMNDF(y, window_size, t, i) for i in range(1, fs*3)]\n",
    "    lower_bound = max(bounds[0], 0)\n",
    "    upper_bound = min(bounds[1], len(CMNDF_vals))\n",
    "    sample = np.argmin(\n",
    "        CMNDF_vals[lower_bound:upper_bound]\n",
    "    ) + lower_bound\n",
    "    return fs / sample\n",
    "\n",
    "\n",
    "def memo_CMNDF(y, window_size, t, lag_max):\n",
    "    running_sum = 0\n",
    "    vals = []\n",
    "    for lag in range(0, lag_max):\n",
    "        if lag == 0:\n",
    "            vals.append(1)\n",
    "            running_sum += 0\n",
    "        else:\n",
    "            running_sum += DF(y, window_size, t, lag)\n",
    "            vals.append(DF(y, window_size, t, lag) / running_sum * lag)\n",
    "    return vals\n",
    "\n",
    "def augmented_detect_pitch_CMNDF(y, window_size, t, fs, bounds, thresh=0.1):  # Also uses memoization\n",
    "    CMNDF_vals = memo_CMNDF(y, window_size, t, bounds[-1])[bounds[0]:]\n",
    "    sample = None\n",
    "    for i, val in enumerate(CMNDF_vals):\n",
    "        if val < thresh:\n",
    "            sample = i + bounds[0]\n",
    "            break\n",
    "    if sample is None:\n",
    "        sample = np.argmin(CMNDF_vals) + bounds[0]\n",
    "    return fs / (sample + 1)\n",
    "\n",
    "\n",
    "\n",
    "\n",
    "\n",
    "# pitches = []\n",
    "# for i in range(y.shape[0] // (window_size + 3)):\n",
    "#     pitches.append(\n",
    "#         augmented_detect_pitch_CMNDF(\n",
    "#             y,\n",
    "#             window_size,\n",
    "#             i * window_size,\n",
    "#             fs,\n",
    "#             bounds\n",
    "#         )\n",
    "#     )\n",
    "#     print(pitches)\n",
    "for i in range(0, len(onset_samples) -1):\n",
    "    window = y[onset_samples[i]: onset_samples[i+1]]\n",
    "    t = onset_samples[i] \n",
    "    window_size = len(window)\n",
    "    if window_size < 0.05: \n",
    "        continue\n",
    "    pitch = augmented_detect_pitch_CMNDF(y, window_size, t, fs, bounds)\n",
    "    print(librosa.hz_to_note(pitch))\n",
    "\n",
    "\n"
   ]
  }
 ],
 "metadata": {
  "kernelspec": {
   "display_name": "Python 3",
   "language": "python",
   "name": "python3"
  },
  "language_info": {
   "codemirror_mode": {
    "name": "ipython",
    "version": 3
   },
   "file_extension": ".py",
   "mimetype": "text/x-python",
   "name": "python",
   "nbconvert_exporter": "python",
   "pygments_lexer": "ipython3",
   "version": "3.10.8"
  },
  "orig_nbformat": 4
 },
 "nbformat": 4,
 "nbformat_minor": 2
}
