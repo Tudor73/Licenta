{
 "cells": [
  {
   "cell_type": "code",
   "execution_count": 1,
   "metadata": {},
   "outputs": [
    {
     "ename": "ModuleNotFoundError",
     "evalue": "No module named 'pydub'",
     "output_type": "error",
     "traceback": [
      "\u001b[1;31m---------------------------------------------------------------------------\u001b[0m",
      "\u001b[1;31mModuleNotFoundError\u001b[0m                       Traceback (most recent call last)",
      "\u001b[1;32mc:\\projects\\final\\test4.ipynb Cell 1\u001b[0m in \u001b[0;36m4\n\u001b[0;32m      <a href='vscode-notebook-cell:/c%3A/projects/final/test4.ipynb#W0sZmlsZQ%3D%3D?line=1'>2</a>\u001b[0m \u001b[39mimport\u001b[39;00m \u001b[39mnumpy\u001b[39;00m \u001b[39mas\u001b[39;00m \u001b[39mnp\u001b[39;00m\n\u001b[0;32m      <a href='vscode-notebook-cell:/c%3A/projects/final/test4.ipynb#W0sZmlsZQ%3D%3D?line=2'>3</a>\u001b[0m \u001b[39mfrom\u001b[39;00m \u001b[39mscipy\u001b[39;00m\u001b[39m.\u001b[39;00m\u001b[39msignal\u001b[39;00m \u001b[39mimport\u001b[39;00m butter, lfilter, cheby1\n\u001b[1;32m----> <a href='vscode-notebook-cell:/c%3A/projects/final/test4.ipynb#W0sZmlsZQ%3D%3D?line=3'>4</a>\u001b[0m \u001b[39mfrom\u001b[39;00m \u001b[39mpydub\u001b[39;00m \u001b[39mimport\u001b[39;00m AudioSegment\n\u001b[0;32m      <a href='vscode-notebook-cell:/c%3A/projects/final/test4.ipynb#W0sZmlsZQ%3D%3D?line=4'>5</a>\u001b[0m \u001b[39mimport\u001b[39;00m \u001b[39mlibrosa\u001b[39;00m\n\u001b[0;32m      <a href='vscode-notebook-cell:/c%3A/projects/final/test4.ipynb#W0sZmlsZQ%3D%3D?line=7'>8</a>\u001b[0m \u001b[39m# y, fs = librosa.load(\"inputs/chitara_inreg2.wav\", sr=None)\u001b[39;00m\n",
      "\u001b[1;31mModuleNotFoundError\u001b[0m: No module named 'pydub'"
     ]
    }
   ],
   "source": [
    "import matplotlib.pyplot as plt\n",
    "import numpy as np\n",
    "from scipy.signal import butter, lfilter, cheby1\n",
    "from pydub import AudioSegment\n",
    "import librosa\n",
    "\n",
    "\n",
    "# y, fs = librosa.load(\"inputs/chitara_inreg2.wav\", sr=None)\n",
    "\n",
    "y = AudioSegment.from_wav(\"inputs/chitara_inreg2.wav\")\n",
    "\n",
    "\n",
    "SEGMENT_MS = 50\n",
    "# dBFS is decibels relative to the maximum possible loudness\n",
    "volume = [segment.dBFS for segment in y[::SEGMENT_MS]]\n",
    "x_axis = np.arange(len(volume)) * (SEGMENT_MS / 1000)\n",
    "plt.plot(x_axis, volume)\n",
    "plt.show()\n",
    "\n",
    "\n",
    "# f0 = librosa.pyin(y, fmin=librosa.note_to_hz('C2'), fmax=librosa.note_to_hz('C7'))\n",
    "# print(f0)"
   ]
  },
  {
   "cell_type": "code",
   "execution_count": null,
   "metadata": {},
   "outputs": [],
   "source": [
    "\n",
    "order = 4\n",
    "low = 120.0\n",
    "high= 900.0\n",
    "b,a = butter(order, [low, high], fs=fs, btype='band')\n",
    "# b, a = cheby1(order, 0.5, [low, high], fs=fs, btype='band')\n",
    "print(b, a)\n",
    "\n",
    "\n",
    "\n",
    "\n",
    "\n",
    "\n",
    "y[np.abs(y) < 0.04] = 0\n",
    "\n",
    "filtered_sound = lfilter(b, a ,y)\n",
    "y = filtered_sound\n",
    "\n",
    "onset_frames = librosa.onset.onset_detect(y=y)\n",
    "onset_samples = librosa.frames_to_samples(onset_frames)\n",
    "\n",
    "\n",
    "print(y.shape)\n",
    "\n",
    "print(len(onset_samples))\n",
    "\n",
    "time_disc = np.linspace(0, len(y)/ fs, num=len(y))\n",
    "plt.plot(time_disc,y)\n",
    "\n",
    "for sample in onset_samples:\n",
    "    plt.axvline(x=sample/fs, color=\"red\")\n",
    "\n",
    "plt.show()"
   ]
  }
 ],
 "metadata": {
  "kernelspec": {
   "display_name": "Python 3",
   "language": "python",
   "name": "python3"
  },
  "language_info": {
   "codemirror_mode": {
    "name": "ipython",
    "version": 3
   },
   "file_extension": ".py",
   "mimetype": "text/x-python",
   "name": "python",
   "nbconvert_exporter": "python",
   "pygments_lexer": "ipython3",
   "version": "3.10.8"
  },
  "orig_nbformat": 4
 },
 "nbformat": 4,
 "nbformat_minor": 2
}
